{
 "cells": [
  {
   "cell_type": "markdown",
   "metadata": {},
   "source": [
    "# 03. Self-Service Help Desk\n",
    "\n"
   ]
  },
  {
   "cell_type": "code",
   "execution_count": 1,
   "metadata": {},
   "outputs": [
    {
     "name": "stdout",
     "output_type": "stream",
     "text": [
      "Collecting package metadata (current_repodata.json): done\n",
      "Solving environment: done\n",
      "\n",
      "\n",
      "==> WARNING: A newer version of conda exists. <==\n",
      "  current version: 4.8.2\n",
      "  latest version: 4.8.3\n",
      "\n",
      "Please update conda by running\n",
      "\n",
      "    $ conda update -n base -c defaults conda\n",
      "\n",
      "\n",
      "\n",
      "# All requested packages already installed.\n",
      "\n"
     ]
    }
   ],
   "source": [
    "#Install all related packages. If you find additional packages missing, please follow the same technique.\n",
    "#If you are not using anaconda, then use pip to install the same packages\n",
    "\n",
    "import sys\n",
    "!conda install --yes --prefix {sys.prefix} pandas tensorflow scikit-learn gensim"
   ]
  },
  {
   "cell_type": "markdown",
   "metadata": {},
   "source": [
    "## 03.04. Building a Document Vector"
   ]
  },
  {
   "cell_type": "code",
   "execution_count": 2,
   "metadata": {},
   "outputs": [
    {
     "name": "stdout",
     "output_type": "stream",
     "text": [
      "HelpDesk Data: \n",
      "                                            Question  \\\n",
      "0              My Mac does not boot, what can I do ?   \n",
      "1                Can Mac Air get infected by a Virus   \n",
      "2   My Mac is having boot problems, how do I fix it?   \n",
      "3                 Do I need an anti virus on my Mac?   \n",
      "4  I have trouble connecting my monitor to my Mac...   \n",
      "\n",
      "                   LinkToAnswer  \n",
      "0  http://faq/mac-does-not-boot  \n",
      "1     http://faq/mac-book-virus  \n",
      "2  http://faq/mac-does-not-boot  \n",
      "3     http://faq/mac-book-virus  \n",
      "4  http://faq/mac-monitor-setup  \n"
     ]
    }
   ],
   "source": [
    "from collections import defaultdict\n",
    "from gensim import corpora\n",
    "from gensim.parsing.preprocessing import remove_stopwords\n",
    "import numpy as np\n",
    "import os\n",
    "import pandas as pd\n",
    "\n",
    "#Read the input CSV into a Pandas dataframe\n",
    "helpdesk_data = pd.read_csv(\"helpdesk_dataset.csv\")\n",
    "\n",
    "print(\"HelpDesk Data: \")\n",
    "print(helpdesk_data.head())\n",
    "\n"
   ]
  },
  {
   "cell_type": "code",
   "execution_count": 3,
   "metadata": {},
   "outputs": [
    {
     "name": "stdout",
     "output_type": "stream",
     "text": [
      "Can Mac Air get infected by a Virus\n",
      "['mac', 'air', 'infected', 'virus']\n"
     ]
    }
   ],
   "source": [
    "#Extract the Question column \n",
    "documents = helpdesk_data[\"Question\"]\n",
    "\n",
    "#Function to cleanse document\n",
    "def process_document(document):\n",
    "\n",
    "    #Remove stopwords, convert to lower case and remove \"?\" character\n",
    "    cleaned_document = remove_stopwords(document.lower()).replace(\"?\",\"\")  \n",
    "    return cleaned_document.split()\n",
    "\n",
    "#Create a document vector\n",
    "doc_vectors=[process_document(document)\n",
    "             for document in documents]\n",
    "\n",
    "#Print the document and the corresponding document vector to compare\n",
    "print(documents[1])\n",
    "print(doc_vectors[1])"
   ]
  },
  {
   "cell_type": "markdown",
   "metadata": {},
   "source": [
    "## 03.05. Creating the LSI Model"
   ]
  },
  {
   "cell_type": "code",
   "execution_count": 4,
   "metadata": {},
   "outputs": [
    {
     "name": "stdout",
     "output_type": "stream",
     "text": [
      "Dictionary created :\n"
     ]
    },
    {
     "data": {
      "text/plain": [
       "{'boot,': 0,\n",
       " 'mac': 1,\n",
       " 'air': 2,\n",
       " 'infected': 3,\n",
       " 'virus': 4,\n",
       " 'boot': 5,\n",
       " 'fix': 6,\n",
       " 'having': 7,\n",
       " 'it': 8,\n",
       " 'problems,': 9,\n",
       " 'anti': 10,\n",
       " 'need': 11,\n",
       " 'connecting': 12,\n",
       " 'help': 13,\n",
       " 'mac.': 14,\n",
       " 'monitor': 15,\n",
       " 'trouble': 16,\n",
       " 'boots,': 17,\n",
       " 'error': 18,\n",
       " 'shows': 19,\n",
       " 'software': 20,\n",
       " 'unsupporterd': 21,\n",
       " 'connected': 22,\n",
       " 'proper': 23,\n",
       " 'resolution': 24,\n",
       " 'flicker': 25,\n",
       " 'monitor.': 26,\n",
       " 'hdmi': 27,\n",
       " 'use': 28,\n",
       " 'connect': 29,\n",
       " 'monitors': 30}"
      ]
     },
     "execution_count": 4,
     "metadata": {},
     "output_type": "execute_result"
    }
   ],
   "source": [
    "#Create the dictionary\n",
    "dictionary = corpora.Dictionary(doc_vectors)\n",
    "\n",
    "print(\"Dictionary created :\")\n",
    "dictionary.token2id\n"
   ]
  },
  {
   "cell_type": "code",
   "execution_count": 5,
   "metadata": {},
   "outputs": [
    {
     "name": "stdout",
     "output_type": "stream",
     "text": [
      "['mac', 'air', 'infected', 'virus']\n",
      "[(1, 1), (2, 1), (3, 1), (4, 1)]\n"
     ]
    }
   ],
   "source": [
    "#Create a corpus\n",
    "corpus = [dictionary.doc2bow(doc_vector) \n",
    "          for doc_vector in doc_vectors]\n",
    "\n",
    "#Review the corpus generated\n",
    "print(doc_vectors[1])\n",
    "print(corpus[1])"
   ]
  },
  {
   "cell_type": "code",
   "execution_count": 6,
   "metadata": {},
   "outputs": [
    {
     "name": "stdout",
     "output_type": "stream",
     "text": [
      "[ 1.0000000e+00  3.5355341e-01  2.8867516e-01  3.5355341e-01\n",
      "  2.5866751e-08  2.8867513e-01 -2.9364895e-08  2.8446223e-10\n",
      "  3.5355338e-01  4.0824834e-01]\n",
      "[ 3.5355341e-01  9.9999994e-01  2.0412415e-01  5.0000000e-01\n",
      "  2.2450529e-08  2.0412415e-01 -3.7067536e-09  2.8867513e-01\n",
      "  2.5000003e-01  2.8867513e-01]\n",
      "[ 2.8867516e-01  2.0412415e-01  9.9999994e-01  2.0412415e-01\n",
      " -1.8794251e-08  1.6666667e-01  3.0860671e-01  1.0505437e-08\n",
      "  2.0412411e-01  2.3570226e-01]\n",
      "[ 3.5355341e-01  5.0000000e-01  2.0412415e-01  1.0000000e+00\n",
      "  2.2450529e-08  2.0412415e-01 -3.7067536e-09  2.8867513e-01\n",
      "  2.5000003e-01  2.8867513e-01]\n",
      "[ 2.5866751e-08  2.2450529e-08 -1.8794251e-08  2.2450529e-08\n",
      "  1.0000000e+00  2.2861792e-08  3.3806166e-01 -4.6973598e-09\n",
      "  2.2360680e-01 -4.1850909e-10]\n",
      "[ 2.8867513e-01  2.0412415e-01  1.6666667e-01  2.0412415e-01\n",
      "  2.2861792e-08  1.0000001e+00 -3.3151069e-09 -8.8221241e-10\n",
      "  2.0412418e-01  2.3570229e-01]\n",
      "[-2.9364895e-08 -3.7067536e-09  3.0860671e-01 -3.7067536e-09\n",
      "  3.3806166e-01 -3.3151069e-09  1.0000000e+00 -5.6750404e-09\n",
      "  1.8898220e-01 -3.0072087e-08]\n",
      "[ 2.8446223e-10  2.8867513e-01  1.0505437e-08  2.8867513e-01\n",
      " -4.6973598e-09 -8.8221241e-10 -5.6750404e-09  9.9999988e-01\n",
      "  2.7179819e-08  3.7548595e-08]\n",
      "[3.5355338e-01 2.5000003e-01 2.0412411e-01 2.5000003e-01 2.2360680e-01\n",
      " 2.0412418e-01 1.8898220e-01 2.7179819e-08 9.9999994e-01 2.8867513e-01]\n",
      "[ 4.0824834e-01  2.8867513e-01  2.3570226e-01  2.8867513e-01\n",
      " -4.1850909e-10  2.3570229e-01 -3.0072087e-08  3.7548595e-08\n",
      "  2.8867513e-01  1.0000000e+00]\n"
     ]
    }
   ],
   "source": [
    "#Build the LSI Model\n",
    "from gensim import models,similarities\n",
    "\n",
    "#Create the model\n",
    "lsi = models.LsiModel(corpus, id2word=dictionary)\n",
    "\n",
    "#Create a similarity Index\n",
    "index = similarities.MatrixSimilarity(lsi[corpus])\n",
    "\n",
    "for similarities in index:\n",
    "    print(similarities)"
   ]
  },
  {
   "cell_type": "markdown",
   "metadata": {},
   "source": [
    "## 03.06. Recommending FAQs"
   ]
  },
  {
   "cell_type": "code",
   "execution_count": 7,
   "metadata": {},
   "outputs": [
    {
     "name": "stdout",
     "output_type": "stream",
     "text": [
      "Question translated to : [(1, 1), (5, 1)]\n",
      "Similarity scores : [(0, 0.67856914), (1, 0.47982085), (2, 0.7835442), (3, 0.47982085), (4, -1.4901161e-08), (5, 0.39177215), (6, -5.2154064e-08), (7, -7.450581e-09), (8, 0.47982085), (9, 0.55404943)]\n"
     ]
    }
   ],
   "source": [
    "\n",
    "question = \"I have boot problems in my Mac\"\n",
    "\n",
    "#Pre Process the Question \n",
    "question_corpus = dictionary.doc2bow(process_document(question))\n",
    "print(\"Question translated to :\", question_corpus)\n",
    "\n",
    "#Create an LSI Representation\n",
    "vec_lsi = lsi[question_corpus]  \n",
    "\n",
    "#Find similarity of the question with existing documents\n",
    "sims = index[vec_lsi]  \n",
    "print(\"Similarity scores :\",list(enumerate(sims)))"
   ]
  },
  {
   "cell_type": "code",
   "execution_count": 8,
   "metadata": {},
   "outputs": [
    {
     "name": "stdout",
     "output_type": "stream",
     "text": [
      "Sorted Document index : [2 0 9 8 3 1 5 7 4 6]\n",
      "\n",
      " ------------------------------------------------------------ \n",
      "\n",
      "0.7835442  ->  My Mac is having boot problems, how do I fix it?\n",
      "0.67856914  ->  My Mac does not boot, what can I do ?\n",
      "0.55404943  ->  Can I connect two monitors to my Mac?\n",
      "0.47982085  ->  Can I use a HDMI monitor with my Mac?\n",
      "0.47982085  ->  Do I need an anti virus on my Mac?\n",
      "0.47982085  ->  Can Mac Air get infected by a Virus\n",
      "0.39177215  ->  When my Mac boots, it shows an unsupporterd software error\n",
      "-7.450581e-09  ->  I see a flicker in my monitor. Is that a virus?\n",
      "-1.4901161e-08  ->  I have trouble connecting my monitor to my Mac. Can you please help?\n",
      "-5.2154064e-08  ->  My Monitor does not show in proper resolution when connected to my Mac. How do I fix it?\n",
      "\n",
      " ------------------------------------------------------------ \n",
      "\n",
      "Recommended FAQ : http://faq/mac-does-not-boot\n"
     ]
    }
   ],
   "source": [
    "#Find the corresponding FAQ Link\n",
    "\n",
    "#sort an array in reverse order and get indexes\n",
    "matches=np.argsort(sims)[::-1] \n",
    "print(\"Sorted Document index :\", matches)\n",
    "\n",
    "print(\"\\n\", \"-\"*60, \"\\n\")\n",
    "for i in matches:\n",
    "    print(sims[i], \" -> \", helpdesk_data.iloc[i][\"Question\"])\n",
    "\n",
    "print(\"\\n\", \"-\"*60, \"\\n\")\n",
    "print(\"Recommended FAQ :\" , helpdesk_data.iloc[matches[0]][\"LinkToAnswer\"] )"
   ]
  },
  {
   "cell_type": "code",
   "execution_count": null,
   "metadata": {},
   "outputs": [],
   "source": []
  }
 ],
 "metadata": {
  "kernelspec": {
   "display_name": "Python 3",
   "language": "python",
   "name": "python3"
  },
  "language_info": {
   "codemirror_mode": {
    "name": "ipython",
    "version": 3
   },
   "file_extension": ".py",
   "mimetype": "text/x-python",
   "name": "python",
   "nbconvert_exporter": "python",
   "pygments_lexer": "ipython3",
   "version": "3.7.7"
  }
 },
 "nbformat": 4,
 "nbformat_minor": 4
}
